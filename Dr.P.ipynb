{
 "cells": [
  {
   "cell_type": "markdown",
   "metadata": {},
   "source": [
    "## Someone gave me a graph and the data, and told me make this"
   ]
  },
  {
   "cell_type": "code",
   "execution_count": 3,
   "metadata": {},
   "outputs": [],
   "source": [
    "import matplotlib.pyplot as plt\n",
    "import numpy as np\n",
    "import pandas as pd\n",
    "from scipy.stats import sem"
   ]
  },
  {
   "cell_type": "code",
   "execution_count": 6,
   "metadata": {},
   "outputs": [
    {
     "data": {
      "text/html": [
       "<div>\n",
       "<style scoped>\n",
       "    .dataframe tbody tr th:only-of-type {\n",
       "        vertical-align: middle;\n",
       "    }\n",
       "\n",
       "    .dataframe tbody tr th {\n",
       "        vertical-align: top;\n",
       "    }\n",
       "\n",
       "    .dataframe thead th {\n",
       "        text-align: right;\n",
       "    }\n",
       "</style>\n",
       "<table border=\"1\" class=\"dataframe\">\n",
       "  <thead>\n",
       "    <tr style=\"text-align: right;\">\n",
       "      <th></th>\n",
       "      <th>Enzyme_lvl</th>\n",
       "    </tr>\n",
       "  </thead>\n",
       "  <tbody>\n",
       "    <tr>\n",
       "      <th>Control-Mouse1-AST</th>\n",
       "      <td>278</td>\n",
       "    </tr>\n",
       "    <tr>\n",
       "      <th>Control-Mouse1-ALT</th>\n",
       "      <td>50</td>\n",
       "    </tr>\n",
       "    <tr>\n",
       "      <th>Control-Mouse1-ALP</th>\n",
       "      <td>316</td>\n",
       "    </tr>\n",
       "    <tr>\n",
       "      <th>Control-Mouse2-AST</th>\n",
       "      <td>218</td>\n",
       "    </tr>\n",
       "    <tr>\n",
       "      <th>Control-Mouse2-ALT</th>\n",
       "      <td>52</td>\n",
       "    </tr>\n",
       "    <tr>\n",
       "      <th>Control-Mouse2-ALP</th>\n",
       "      <td>537</td>\n",
       "    </tr>\n",
       "    <tr>\n",
       "      <th>Control-Mouse3-AST</th>\n",
       "      <td>243</td>\n",
       "    </tr>\n",
       "    <tr>\n",
       "      <th>Control-Mouse3-ALT</th>\n",
       "      <td>53</td>\n",
       "    </tr>\n",
       "    <tr>\n",
       "      <th>Control-Mouse3-ALP</th>\n",
       "      <td>293</td>\n",
       "    </tr>\n",
       "    <tr>\n",
       "      <th>Np-Mouse1-AST</th>\n",
       "      <td>169</td>\n",
       "    </tr>\n",
       "    <tr>\n",
       "      <th>Np-Mouse1-ALT</th>\n",
       "      <td>61</td>\n",
       "    </tr>\n",
       "    <tr>\n",
       "      <th>Np-Mouse1-ALP</th>\n",
       "      <td>362</td>\n",
       "    </tr>\n",
       "    <tr>\n",
       "      <th>Np-Mouse2-AST</th>\n",
       "      <td>202</td>\n",
       "    </tr>\n",
       "    <tr>\n",
       "      <th>Np-Mouse2-ALT</th>\n",
       "      <td>48</td>\n",
       "    </tr>\n",
       "    <tr>\n",
       "      <th>Np-Mouse2-ALP</th>\n",
       "      <td>475</td>\n",
       "    </tr>\n",
       "    <tr>\n",
       "      <th>Np-Mouse3-AST</th>\n",
       "      <td>216</td>\n",
       "    </tr>\n",
       "    <tr>\n",
       "      <th>Np-Mouse3-ALT</th>\n",
       "      <td>59</td>\n",
       "    </tr>\n",
       "    <tr>\n",
       "      <th>Np-Mouse3-ALP</th>\n",
       "      <td>369</td>\n",
       "    </tr>\n",
       "  </tbody>\n",
       "</table>\n",
       "</div>"
      ],
      "text/plain": [
       "                    Enzyme_lvl\n",
       "Control-Mouse1-AST         278\n",
       "Control-Mouse1-ALT          50\n",
       "Control-Mouse1-ALP         316\n",
       "Control-Mouse2-AST         218\n",
       "Control-Mouse2-ALT          52\n",
       "Control-Mouse2-ALP         537\n",
       "Control-Mouse3-AST         243\n",
       "Control-Mouse3-ALT          53\n",
       "Control-Mouse3-ALP         293\n",
       "Np-Mouse1-AST              169\n",
       "Np-Mouse1-ALT               61\n",
       "Np-Mouse1-ALP              362\n",
       "Np-Mouse2-AST              202\n",
       "Np-Mouse2-ALT               48\n",
       "Np-Mouse2-ALP              475\n",
       "Np-Mouse3-AST              216\n",
       "Np-Mouse3-ALT               59\n",
       "Np-Mouse3-ALP              369"
      ]
     },
     "execution_count": 6,
     "metadata": {},
     "output_type": "execute_result"
    }
   ],
   "source": [
    "df = pd.read_csv(\"Liver enzymes.csv\").T\n",
    "df.columns = ['Enzyme_lvl']\n",
    "rng1 = [i for i in range(9) if i%3 == 0]\n",
    "rng2 = [i for i in range(9) if i%3 == 1]\n",
    "rng3 = [i for i in range(9) if i%3 == 2]\n",
    "rng_1 = [i for i in range(9,18) if i%3 == 0]\n",
    "rng_2= [i for i in range(9,18) if i%3 == 1]\n",
    "rng_3 = [i for i in range(9,18) if i%3 == 2]\n",
    "c_AST = df.iloc[rng1]\n",
    "c_ALT = df.iloc[rng2]\n",
    "c_ALP = df.iloc[rng3]\n",
    "np_AST = df.iloc[rng_1]\n",
    "np_ALT = df.iloc[rng_2]\n",
    "np_ALP = df.iloc[rng_3]\n",
    "df"
   ]
  },
  {
   "cell_type": "code",
   "execution_count": 5,
   "metadata": {},
   "outputs": [
    {
     "data": {
      "image/png": "[encoded data removed]",
      "text/plain": [
       "<Figure size 640x480 with 1 Axes>"
      ]
     },
     "metadata": {},
     "output_type": "display_data"
    }
   ],
   "source": [
    "X1 = np.array([1,2,3,21,22,23,41,42,43])\n",
    "X2 = np.array([9,10,11,29,30,31,49,50,51])\n",
    "means = np.array([6, 26, 46])\n",
    "\n",
    "y1 = np.vstack((c_AST.values, c_ALT.values, c_ALP.values)).reshape(-1,)\n",
    "y2 = np.vstack((np_AST.values, np_ALT.values, np_ALP.values)).reshape(-1,)\n",
    "\n",
    "xx = np.array([2,10,22,30, 42, 50])\n",
    "yy = np.array([c_AST.values.mean(),np_AST.values.mean(), c_ALT.values.mean(),\n",
    "               np_ALT.values.mean(), c_ALP.values.mean(), np_ALP.values.mean()])\n",
    "error = np.array([sem(c_AST.values)[0], sem(np_AST.values)[0], sem(c_ALT.values)[0],\n",
    "                  sem(np_ALT.values)[0], sem(c_ALP.values)[0], sem(np_ALP.values)[0]])\n",
    "\n",
    "fig, ax = plt.subplots()\n",
    "ax.scatter(X1,y1, marker='o', color = 'blue', label='Control')\n",
    "ax.scatter(X2,y2, marker='^', color = 'red', label='Janus NPs')\n",
    "ax.errorbar(xx, yy, error, linestyle='None', marker='_', color = 'k', markersize=12, capsize=3)\n",
    "\n",
    "ax.set_xticks(means)\n",
    "ax.set_xticklabels(['S.G.O.T (AST)', 'S.G.P.T (ALT)', 'Alkaline Phosphatase (ALP)'],\n",
    "                    rotation=45, ha='right', rotation_mode='anchor')\n",
    "ax.spines[['right', 'top']].set_visible(False)\n",
    "\n",
    "ax.set_ylabel('Liver enzymes level (U/L)')\n",
    "ax.legend()\n",
    "plt.show()"
   ]
  },
  {
   "cell_type": "code",
   "execution_count": null,
   "metadata": {},
   "outputs": [],
   "source": []
  }
 ],
 "metadata": {
  "kernelspec": {
   "display_name": "primary",
   "language": "python",
   "name": "python3"
  },
  "language_info": {
   "codemirror_mode": {
    "name": "ipython",
    "version": 3
   },
   "file_extension": ".py",
   "mimetype": "text/x-python",
   "name": "python",
   "nbconvert_exporter": "python",
   "pygments_lexer": "ipython3",
   "version": "3.11.4"
  }
 },
 "nbformat": 4,
 "nbformat_minor": 2
}
